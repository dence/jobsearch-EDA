{
 "cells": [
  {
   "cell_type": "code",
   "execution_count": 1,
   "metadata": {},
   "outputs": [],
   "source": [
    "import pandas as pd\n",
    "from pathlib import Path\n",
    "# import gspread\n",
    "# from oauth2client.service_account import ServiceAccountCredentials"
   ]
  },
  {
   "cell_type": "code",
   "execution_count": 2,
   "metadata": {},
   "outputs": [],
   "source": [
    "# #path to my G-secret\n",
    "# #g_secret_path = \"/Users/danielence/.google_cloud/credentials.json\"\n",
    "# service_account_key = \"/Users/danielence/.google_cloud/service_account_key.json\"\n",
    "# scope = [\n",
    "#     \"https://www.googleapis.com/auth/spreadsheets\",\n",
    "#     \"https://www.googleapis.com/auth/drive\"\n",
    "# ]\n",
    "\n",
    "# creds = \\\n",
    "#     ServiceAccountCredentials.from_json_keyfile_name(\n",
    "#        filename=service_account_key,\n",
    "#         scopes=scope,\n",
    "#         )\n",
    "# client = gspread.authorize(creds)\n",
    "\n",
    "\n",
    "# # #to use gsheet_pandas\n",
    "# # #first call setup method to register your \n",
    "# # #credentials and initialize pandas extensions\n",
    "# # secret_path = Path('/path/to/my/secrets/').resolve()\n",
    "# # gsheet_pandas.setup(credentials_dir=secret_path / 'credentials.json',\n",
    "# #                     token_dir=secret_path / 'token.json')"
   ]
  },
  {
   "cell_type": "code",
   "execution_count": 4,
   "metadata": {},
   "outputs": [
    {
     "ename": "APIError",
     "evalue": "APIError: [403]: Google Drive API has not been used in project 438492996252 before or it is disabled. Enable it by visiting https://console.developers.google.com/apis/api/drive.googleapis.com/overview?project=438492996252 then retry. If you enabled this API recently, wait a few minutes for the action to propagate to our systems and retry.",
     "output_type": "error",
     "traceback": [
      "\u001b[0;31m---------------------------------------------------------------------------\u001b[0m",
      "\u001b[0;31mAPIError\u001b[0m                                  Traceback (most recent call last)",
      "Cell \u001b[0;32mIn[4], line 3\u001b[0m\n\u001b[1;32m      1\u001b[0m \u001b[38;5;66;03m#open the google sheet by name or URL\u001b[39;00m\n\u001b[1;32m      2\u001b[0m sheet_name \u001b[38;5;241m=\u001b[39m \u001b[38;5;124m\"\u001b[39m\u001b[38;5;124mJob Search 2024\u001b[39m\u001b[38;5;124m\"\u001b[39m\n\u001b[0;32m----> 3\u001b[0m sheet \u001b[38;5;241m=\u001b[39m \u001b[43mclient\u001b[49m\u001b[38;5;241;43m.\u001b[39;49m\u001b[43mopen\u001b[49m\u001b[43m(\u001b[49m\u001b[43msheet_name\u001b[49m\u001b[43m)\u001b[49m\u001b[38;5;241m.\u001b[39msheet1\n\u001b[1;32m      4\u001b[0m data \u001b[38;5;241m=\u001b[39m sheet\u001b[38;5;241m.\u001b[39mget_all_records()\n\u001b[1;32m      5\u001b[0m df \u001b[38;5;241m=\u001b[39m pd\u001b[38;5;241m.\u001b[39mDataFrame(pd)\n",
      "File \u001b[0;32m~/Documents/project_folders/jobsearch-EDA/venv/lib/python3.11/site-packages/gspread/client.py:132\u001b[0m, in \u001b[0;36mClient.open\u001b[0;34m(self, title, folder_id)\u001b[0m\n\u001b[1;32m    116\u001b[0m \u001b[38;5;28;01mdef\u001b[39;00m \u001b[38;5;21mopen\u001b[39m(\u001b[38;5;28mself\u001b[39m, title: \u001b[38;5;28mstr\u001b[39m, folder_id: Optional[\u001b[38;5;28mstr\u001b[39m] \u001b[38;5;241m=\u001b[39m \u001b[38;5;28;01mNone\u001b[39;00m) \u001b[38;5;241m-\u001b[39m\u001b[38;5;241m>\u001b[39m Spreadsheet:\n\u001b[1;32m    117\u001b[0m \u001b[38;5;250m    \u001b[39m\u001b[38;5;124;03m\"\"\"Opens a spreadsheet.\u001b[39;00m\n\u001b[1;32m    118\u001b[0m \n\u001b[1;32m    119\u001b[0m \u001b[38;5;124;03m    :param str title: A title of a spreadsheet.\u001b[39;00m\n\u001b[0;32m   (...)\u001b[0m\n\u001b[1;32m    130\u001b[0m \u001b[38;5;124;03m    >>> gc.open('My fancy spreadsheet')\u001b[39;00m\n\u001b[1;32m    131\u001b[0m \u001b[38;5;124;03m    \"\"\"\u001b[39;00m\n\u001b[0;32m--> 132\u001b[0m     spreadsheet_files, response \u001b[38;5;241m=\u001b[39m \u001b[38;5;28;43mself\u001b[39;49m\u001b[38;5;241;43m.\u001b[39;49m\u001b[43m_list_spreadsheet_files\u001b[49m\u001b[43m(\u001b[49m\u001b[43mtitle\u001b[49m\u001b[43m,\u001b[49m\u001b[43m \u001b[49m\u001b[43mfolder_id\u001b[49m\u001b[43m)\u001b[49m\n\u001b[1;32m    133\u001b[0m     \u001b[38;5;28;01mtry\u001b[39;00m:\n\u001b[1;32m    134\u001b[0m         properties \u001b[38;5;241m=\u001b[39m finditem(\n\u001b[1;32m    135\u001b[0m             \u001b[38;5;28;01mlambda\u001b[39;00m x: x[\u001b[38;5;124m\"\u001b[39m\u001b[38;5;124mname\u001b[39m\u001b[38;5;124m\"\u001b[39m] \u001b[38;5;241m==\u001b[39m title,\n\u001b[1;32m    136\u001b[0m             spreadsheet_files,\n\u001b[1;32m    137\u001b[0m         )\n",
      "File \u001b[0;32m~/Documents/project_folders/jobsearch-EDA/venv/lib/python3.11/site-packages/gspread/client.py:105\u001b[0m, in \u001b[0;36mClient._list_spreadsheet_files\u001b[0;34m(self, title, folder_id)\u001b[0m\n\u001b[1;32m    102\u001b[0m \u001b[38;5;28;01mif\u001b[39;00m page_token:\n\u001b[1;32m    103\u001b[0m     params[\u001b[38;5;124m\"\u001b[39m\u001b[38;5;124mpageToken\u001b[39m\u001b[38;5;124m\"\u001b[39m] \u001b[38;5;241m=\u001b[39m page_token\n\u001b[0;32m--> 105\u001b[0m response \u001b[38;5;241m=\u001b[39m \u001b[38;5;28;43mself\u001b[39;49m\u001b[38;5;241;43m.\u001b[39;49m\u001b[43mhttp_client\u001b[49m\u001b[38;5;241;43m.\u001b[39;49m\u001b[43mrequest\u001b[49m\u001b[43m(\u001b[49m\u001b[38;5;124;43m\"\u001b[39;49m\u001b[38;5;124;43mget\u001b[39;49m\u001b[38;5;124;43m\"\u001b[39;49m\u001b[43m,\u001b[49m\u001b[43m \u001b[49m\u001b[43murl\u001b[49m\u001b[43m,\u001b[49m\u001b[43m \u001b[49m\u001b[43mparams\u001b[49m\u001b[38;5;241;43m=\u001b[39;49m\u001b[43mparams\u001b[49m\u001b[43m)\u001b[49m\n\u001b[1;32m    106\u001b[0m response_json \u001b[38;5;241m=\u001b[39m response\u001b[38;5;241m.\u001b[39mjson()\n\u001b[1;32m    107\u001b[0m files\u001b[38;5;241m.\u001b[39mextend(response_json[\u001b[38;5;124m\"\u001b[39m\u001b[38;5;124mfiles\u001b[39m\u001b[38;5;124m\"\u001b[39m])\n",
      "File \u001b[0;32m~/Documents/project_folders/jobsearch-EDA/venv/lib/python3.11/site-packages/gspread/http_client.py:128\u001b[0m, in \u001b[0;36mHTTPClient.request\u001b[0;34m(self, method, endpoint, params, data, json, files, headers)\u001b[0m\n\u001b[1;32m    126\u001b[0m     \u001b[38;5;28;01mreturn\u001b[39;00m response\n\u001b[1;32m    127\u001b[0m \u001b[38;5;28;01melse\u001b[39;00m:\n\u001b[0;32m--> 128\u001b[0m     \u001b[38;5;28;01mraise\u001b[39;00m APIError(response)\n",
      "\u001b[0;31mAPIError\u001b[0m: APIError: [403]: Google Drive API has not been used in project 438492996252 before or it is disabled. Enable it by visiting https://console.developers.google.com/apis/api/drive.googleapis.com/overview?project=438492996252 then retry. If you enabled this API recently, wait a few minutes for the action to propagate to our systems and retry."
     ]
    }
   ],
   "source": [
    "# #open the google sheet by name or URL\n",
    "# sheet_name = \"Job Search 2024\"\n",
    "# sheet = client.open(sheet_name).sheet1\n",
    "# data = sheet.get_all_records()\n",
    "# df = pd.DataFrame(pd)"
   ]
  },
  {
   "cell_type": "code",
   "execution_count": null,
   "metadata": {},
   "outputs": [],
   "source": []
  },
  {
   "cell_type": "code",
   "execution_count": null,
   "metadata": {},
   "outputs": [],
   "source": []
  }
 ],
 "metadata": {
  "kernelspec": {
   "display_name": "venv",
   "language": "python",
   "name": "python3"
  },
  "language_info": {
   "codemirror_mode": {
    "name": "ipython",
    "version": 3
   },
   "file_extension": ".py",
   "mimetype": "text/x-python",
   "name": "python",
   "nbconvert_exporter": "python",
   "pygments_lexer": "ipython3",
   "version": "3.11.2"
  }
 },
 "nbformat": 4,
 "nbformat_minor": 2
}
